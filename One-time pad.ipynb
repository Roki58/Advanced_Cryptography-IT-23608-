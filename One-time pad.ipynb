{
  "nbformat": 4,
  "nbformat_minor": 0,
  "metadata": {
    "colab": {
      "provenance": [],
      "authorship_tag": "ABX9TyP5lvLnmKBGa8JjVxweAoG8",
      "include_colab_link": true
    },
    "kernelspec": {
      "name": "python3",
      "display_name": "Python 3"
    },
    "language_info": {
      "name": "python"
    }
  },
  "cells": [
    {
      "cell_type": "markdown",
      "metadata": {
        "id": "view-in-github",
        "colab_type": "text"
      },
      "source": [
        "<a href=\"https://colab.research.google.com/github/Roki58/Advanced_Cryptography-IT-23608-/blob/main/One-time%20pad.ipynb\" target=\"_parent\"><img src=\"https://colab.research.google.com/assets/colab-badge.svg\" alt=\"Open In Colab\"/></a>"
      ]
    },
    {
      "cell_type": "code",
      "execution_count": null,
      "metadata": {
        "id": "UZ7kYuqmP0KV"
      },
      "outputs": [],
      "source": []
    },
    {
      "cell_type": "markdown",
      "source": [
        "One-time pad\n"
      ],
      "metadata": {
        "id": "j5jQ9M0IP05S"
      }
    },
    {
      "cell_type": "code",
      "source": [
        "import random\n",
        "\n",
        "def generate_otp_key(length, seed):\n",
        "    \"\"\"\n",
        "    Generate a pseudo-random OTP key based on a seed (e.g., user's name).\n",
        "    \"\"\"\n",
        "    random.seed(seed)  # Use the seed to initialize the PRNG\n",
        "    return [random.randint(0, 95) for _ in range(length)]  # Ensure key values are within range for printable characters\n",
        "\n",
        "def encrypt(message, seed):\n",
        "    \"\"\"\n",
        "    Encrypt a message using a one-time pad derived from the seed.\n",
        "    The encrypted message will consist of printable characters.\n",
        "    \"\"\"\n",
        "    key = generate_otp_key(len(message), seed)\n",
        "    encrypted = ''.join(chr(((ord(char) - 32 + k) % 95) + 32) for char, k in zip(message, key))\n",
        "    return encrypted, key\n",
        "\n",
        "def decrypt(encrypted_message, seed):\n",
        "    \"\"\"\n",
        "    Decrypt a message using the seed.\n",
        "    \"\"\"\n",
        "    key = generate_otp_key(len(encrypted_message), seed)\n",
        "    decrypted = ''.join(chr(((ord(char) - 32 - k) % 95) + 32) for char, k in zip(encrypted_message, key))\n",
        "    return decrypted\n",
        "\n",
        "# Example usage\n",
        "seed = \"Ahosanul Hasan\"  # Input seed for reproducibility\n",
        "message = \"Roki\"         # Message to encrypt\n",
        "\n",
        "# Encrypt the message\n",
        "encrypted_message, key = encrypt(message, seed)\n",
        "print(\"Encrypted Output:\", encrypted_message)\n",
        "\n",
        "# Decrypt the message\n",
        "decrypted_message = decrypt(encrypted_message, seed)\n",
        "print(\"Decrypted Output:\", decrypted_message)\n"
      ],
      "metadata": {
        "colab": {
          "base_uri": "https://localhost:8080/"
        },
        "id": "mfD77rA8P6bg",
        "outputId": "f901a378-711d-4c38-c54c-92935dde87b9"
      },
      "execution_count": 1,
      "outputs": [
        {
          "output_type": "stream",
          "name": "stdout",
          "text": [
            "Encrypted Output: '{zd\n",
            "Decrypted Output: Roki\n"
          ]
        }
      ]
    }
  ]
}